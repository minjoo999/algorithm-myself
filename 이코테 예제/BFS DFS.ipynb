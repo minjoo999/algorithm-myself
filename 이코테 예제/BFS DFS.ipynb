{
 "cells": [
  {
   "attachments": {},
   "cell_type": "markdown",
   "metadata": {},
   "source": [
    "# 이코테 BFS/DFS"
   ]
  },
  {
   "attachments": {},
   "cell_type": "markdown",
   "metadata": {},
   "source": [
    "## 예제 5-1. 스택\n",
    "- ```append()``` 로 집어넣고, ```pop()``` 으로 빼기.\n",
    "- ```pop()``` 은 리스트의 가장 뒤쪽 (= 맨 마지막에 삽입한 부분)에서 데이터 꺼내는 것."
   ]
  },
  {
   "cell_type": "code",
   "execution_count": 2,
   "metadata": {},
   "outputs": [
    {
     "name": "stdout",
     "output_type": "stream",
     "text": [
      "[5, 2, 3, 1]\n",
      "[1, 3, 2, 5]\n"
     ]
    }
   ],
   "source": [
    "stack = []\n",
    "\n",
    "stack.append(5)\n",
    "stack.append(2)\n",
    "stack.append(3)\n",
    "stack.append(7)\n",
    "stack.pop() # 맨마지막 7 삭제\n",
    "stack.append(1)\n",
    "stack.append(4)\n",
    "stack.pop() # 맨마지막 4 삭제\n",
    "\n",
    "print(stack)\n",
    "print(stack[::-1])"
   ]
  },
  {
   "attachments": {},
   "cell_type": "markdown",
   "metadata": {},
   "source": [
    "## 예제 5-2. 큐\n",
    "- 속칭 선입선출 구조\n",
    "- ```deque``` 라이브러리 사용 (예시: https://chaewonkong.github.io/posts/python-deque.html)\n",
    "- ```append()```는 list에서와 비슷하게 쓰면 되고, ```popleft()``` 쓰면 맨 먼저 넣은 (= 왼쪽에 놓인) 원소가 빠짐"
   ]
  },
  {
   "cell_type": "code",
   "execution_count": 3,
   "metadata": {},
   "outputs": [
    {
     "name": "stdout",
     "output_type": "stream",
     "text": [
      "먼저 들어온 순서대로:  deque([3, 7, 1, 4])\n",
      "나중에 들어온 원소부터:  deque([4, 1, 7, 3])\n"
     ]
    }
   ],
   "source": [
    "from collections import deque\n",
    "\n",
    "queue = deque()\n",
    "\n",
    "queue.append(5)\n",
    "queue.append(2)\n",
    "queue.append(3)\n",
    "queue.append(7) # append는 그냥 list의 append와 비슷\n",
    "queue.popleft() # 맨 왼쪽 (= 먼저 넣은 것) 부터 빠짐 ## 나중에 넣은것부터 빼려면 popright 하면 되겠지?\n",
    "queue.append(1)\n",
    "queue.append(4)\n",
    "queue.popleft() # 결과적으로 5, 2가 빠지게 됨\n",
    "\n",
    "print(\"먼저 들어온 순서대로: \", queue)\n",
    "queue.reverse()\n",
    "print(\"나중에 들어온 원소부터: \", queue)"
   ]
  },
  {
   "attachments": {},
   "cell_type": "markdown",
   "metadata": {},
   "source": [
    "## 예제 5-4. 재귀함수 종료"
   ]
  },
  {
   "cell_type": "code",
   "execution_count": 4,
   "metadata": {},
   "outputs": [
    {
     "name": "stdout",
     "output_type": "stream",
     "text": [
      "1 재귀함수 1번째 호출\n",
      "2 재귀함수 2번째 호출\n",
      "3 재귀함수 3번째 호출\n",
      "4 재귀함수 4번째 호출\n",
      "5 재귀함수 5번째 호출\n",
      "6 재귀함수 6번째 호출\n",
      "7 재귀함수 7번째 호출\n",
      "8 재귀함수 8번째 호출\n",
      "9 재귀함수 9번째 호출\n",
      "10 재귀함수 10번째 호출\n",
      "11 재귀함수 11번째 호출\n",
      "12 재귀함수 12번째 호출\n",
      "13 재귀함수 13번째 호출\n",
      "14 재귀함수 14번째 호출\n",
      "15 재귀함수 15번째 호출\n",
      "16 재귀함수 16번째 호출\n",
      "17 재귀함수 17번째 호출\n",
      "18 재귀함수 18번째 호출\n",
      "19 재귀함수 19번째 호출\n",
      "20 재귀함수 20번째 호출\n",
      "21 재귀함수 21번째 호출\n",
      "22 재귀함수 22번째 호출\n",
      "23 재귀함수 23번째 호출\n",
      "24 재귀함수 24번째 호출\n",
      "25 재귀함수 25번째 호출\n",
      "26 재귀함수 26번째 호출\n",
      "27 재귀함수 27번째 호출\n",
      "28 재귀함수 28번째 호출\n",
      "29 재귀함수 29번째 호출\n",
      "30 재귀함수 30번째 호출\n",
      "31 재귀함수 31번째 호출\n",
      "32 재귀함수 32번째 호출\n",
      "33 재귀함수 33번째 호출\n",
      "34 재귀함수 34번째 호출\n",
      "35 재귀함수 35번째 호출\n",
      "36 재귀함수 36번째 호출\n",
      "37 재귀함수 37번째 호출\n",
      "38 재귀함수 38번째 호출\n",
      "39 재귀함수 39번째 호출\n",
      "40 재귀함수 40번째 호출\n",
      "41 재귀함수 41번째 호출\n",
      "42 재귀함수 42번째 호출\n",
      "43 재귀함수 43번째 호출\n",
      "44 재귀함수 44번째 호출\n",
      "45 재귀함수 45번째 호출\n",
      "46 재귀함수 46번째 호출\n",
      "47 재귀함수 47번째 호출\n",
      "48 재귀함수 48번째 호출\n",
      "49 재귀함수 49번째 호출\n",
      "50 재귀함수 50번째 호출\n",
      "51 재귀함수 51번째 호출\n",
      "52 재귀함수 52번째 호출\n",
      "53 재귀함수 53번째 호출\n",
      "54 재귀함수 54번째 호출\n",
      "55 재귀함수 55번째 호출\n",
      "56 재귀함수 56번째 호출\n",
      "57 재귀함수 57번째 호출\n",
      "58 재귀함수 58번째 호출\n",
      "59 재귀함수 59번째 호출\n",
      "60 재귀함수 60번째 호출\n",
      "61 재귀함수 61번째 호출\n",
      "62 재귀함수 62번째 호출\n",
      "63 재귀함수 63번째 호출\n",
      "64 재귀함수 64번째 호출\n",
      "65 재귀함수 65번째 호출\n",
      "66 재귀함수 66번째 호출\n",
      "67 재귀함수 67번째 호출\n",
      "68 재귀함수 68번째 호출\n",
      "69 재귀함수 69번째 호출\n",
      "70 재귀함수 70번째 호출\n",
      "71 재귀함수 71번째 호출\n",
      "72 재귀함수 72번째 호출\n",
      "73 재귀함수 73번째 호출\n",
      "74 재귀함수 74번째 호출\n",
      "75 재귀함수 75번째 호출\n",
      "76 재귀함수 76번째 호출\n",
      "77 재귀함수 77번째 호출\n",
      "78 재귀함수 78번째 호출\n",
      "79 재귀함수 79번째 호출\n",
      "80 재귀함수 80번째 호출\n",
      "81 재귀함수 81번째 호출\n",
      "82 재귀함수 82번째 호출\n",
      "83 재귀함수 83번째 호출\n",
      "84 재귀함수 84번째 호출\n",
      "85 재귀함수 85번째 호출\n",
      "86 재귀함수 86번째 호출\n",
      "87 재귀함수 87번째 호출\n",
      "88 재귀함수 88번째 호출\n",
      "89 재귀함수 89번째 호출\n",
      "90 재귀함수 90번째 호출\n",
      "91 재귀함수 91번째 호출\n",
      "92 재귀함수 92번째 호출\n",
      "93 재귀함수 93번째 호출\n",
      "94 재귀함수 94번째 호출\n",
      "95 재귀함수 95번째 호출\n",
      "96 재귀함수 96번째 호출\n",
      "97 재귀함수 97번째 호출\n",
      "98 재귀함수 98번째 호출\n",
      "99 재귀함수 99번째 호출\n"
     ]
    }
   ],
   "source": [
    "def rec_func(i):\n",
    "    # 100번째에서 끝내기\n",
    "    if i == 100:\n",
    "        return  # 100번째에서 빈값 나옴!\n",
    "    print(i, f\"재귀함수 {i}번째 호출\")\n",
    "    rec_func(i+1)\n",
    "\n",
    "rec_func(1)"
   ]
  },
  {
   "attachments": {},
   "cell_type": "markdown",
   "metadata": {},
   "source": [
    "## 예제 5-5. 팩토리얼\n",
    "- ```n! = 1*2*3* ... *(n-1)*n```\n",
    "- 반복적 구현 vs 재귀함수"
   ]
  },
  {
   "cell_type": "code",
   "execution_count": 7,
   "metadata": {},
   "outputs": [
    {
     "data": {
      "text/plain": [
       "120"
      ]
     },
     "execution_count": 7,
     "metadata": {},
     "output_type": "execute_result"
    }
   ],
   "source": [
    "# 반복적 구현\n",
    "def fac_iter(n):\n",
    "    result = 1\n",
    "    for i in range(1, n+1):\n",
    "        result *= i\n",
    "    return result\n",
    "\n",
    "fac_iter(5)"
   ]
  },
  {
   "cell_type": "code",
   "execution_count": 8,
   "metadata": {},
   "outputs": [
    {
     "data": {
      "text/plain": [
       "120"
      ]
     },
     "execution_count": 8,
     "metadata": {},
     "output_type": "execute_result"
    }
   ],
   "source": [
    "# 재귀적 구현\n",
    "def fac_rec(n):\n",
    "    if n <= 1:\n",
    "        return 1\n",
    "    \n",
    "    # n이 1이면 1 되는 거고\n",
    "    # n이 5라면 5*fac_rec(4) -> 5*4*3*2*1 결국 되는 거지\n",
    "    return n * fac_rec(n - 1)\n",
    "\n",
    "fac_rec(5)"
   ]
  },
  {
   "attachments": {},
   "cell_type": "markdown",
   "metadata": {},
   "source": [
    "## 예제 5-6. 인접 행렬 방식\n",
    "- 2차원 배열로 그래프의 연결 관계 표현"
   ]
  },
  {
   "cell_type": "code",
   "execution_count": 10,
   "metadata": {},
   "outputs": [
    {
     "name": "stdout",
     "output_type": "stream",
     "text": [
      "[[0, 7, 5], [7, 0, 99999999], [5, 99999999, 0]]\n"
     ]
    }
   ],
   "source": [
    "# 인접이 아니다 = 거리가 INF다 라고 표현\n",
    "INF = 99999999\n",
    "\n",
    "# 2차원 리스트로 인접 행렬 표현\n",
    "# 각 원소는 [0과의 거리, 1과의 거리, 2와의 거리] 로 이루어져 있음\n",
    "# 내가 0이라면 0과의 거리 -> 0, 1과의 거리 -> 7, 2와의 거리 -> 5 이런 식\n",
    "# 1은 2와 인접하지 않았으므로 거리가 INF 라고 표현\n",
    "graph = [[0, 7, 5], [7, 0, INF], [5, INF, 0]]\n",
    "\n",
    "print(graph)"
   ]
  },
  {
   "attachments": {},
   "cell_type": "markdown",
   "metadata": {},
   "source": [
    "## 예제 5-7. 인접리스트 방식\n",
    "- 역시 2차원 배열 활용\n",
    "- 2차원 리스트의 인덱스 0에다가 노드 0에 연결된 노드 정보 저장하기~ 하는 식으로 작업\n",
    "- 메모리는 확실히 인접행렬 방식에 비해 적게 쓰지만, 특정 노드와 특정 노드 간 연결이 돼있는지? 같은 건 확인하기 어려움"
   ]
  },
  {
   "cell_type": "code",
   "execution_count": 12,
   "metadata": {},
   "outputs": [
    {
     "name": "stdout",
     "output_type": "stream",
     "text": [
      "[[(1, 7), (2, 5)], [(0, 7)], [(0, 5)]]\n"
     ]
    }
   ],
   "source": [
    "graph = [[] for _ in range(3)]  # [[], [], []]\n",
    "\n",
    "# 노드 0에 연결된 노드 정보 저장: (노드 번호, 거리)\n",
    "graph[0].append((1, 7))\n",
    "graph[0].append((2, 5))\n",
    "\n",
    "# 노드 1에 연결된 노드 정보 저장\n",
    "graph[1].append((0, 7))\n",
    "\n",
    "# 노드 2에 연결된 노드 정보 저장\n",
    "graph[2].append((0, 5))\n",
    "\n",
    "print(graph)\n",
    "\n"
   ]
  },
  {
   "attachments": {},
   "cell_type": "markdown",
   "metadata": {},
   "source": [
    "## 예제 5-8. DFS\n",
    "* 원하는 것: 노드들을 트리구조로 꺼내놓고, 스택에 트리구조 속 모든 노드를 넣었다 뺐다 하기\n",
    "- 탐색 시작 노드 스택에 넣고 방문처리 \n",
    "- -> 스택 최상단 노드에 방문하지 않은 인접 노드가 있으면 스택에 넣고 방문처리\n",
    "- 방문하지 않은 인접노드 없으면 스택에서 최상단노드 꺼내기\n",
    "- -> (방문하지 않은 인접노드는 스택에 넣고 방문처리, 없으면 스택에서 최상단노드 꺼내기) 반복"
   ]
  },
  {
   "cell_type": "code",
   "execution_count": 13,
   "metadata": {},
   "outputs": [
    {
     "name": "stdout",
     "output_type": "stream",
     "text": [
      "1 2 7 6 8 3 4 5 "
     ]
    }
   ],
   "source": [
    "# DFS 메서드 정의\n",
    "def dfs(graph, v, visited):\n",
    "\n",
    "    # 현재 노드 방문 처리\n",
    "    visited[v] = True\n",
    "    print(v, end=' ')\n",
    "\n",
    "    # 현재 노드와 연결된 다른 노드 방문, 재귀함수 사용\n",
    "    for i in graph[v]:\n",
    "        if not visited[i]:\n",
    "            dfs(graph, i, visited)\n",
    "\n",
    "# 각 노드가 연결된 정보 (책속 트리모양!)를 리스트 자료형으로 표현 (2차원 리스트)\n",
    "# graph[1] : 1번 노드에 2, 3, 8번 노드가 연결됨!\n",
    "# graph[2] : 2번 노드에 1, 7번 노드가 연결됨! (이런 식으로 1~8번 노드를 전부 표현)\n",
    "graph = [\n",
    "    [],\n",
    "    [2, 3, 8],\n",
    "    [1, 7],\n",
    "    [1, 4, 5],\n",
    "    [3, 5],\n",
    "    [3, 4],\n",
    "    [7],\n",
    "    [2, 6, 8],\n",
    "    [1, 7]\n",
    "]\n",
    "\n",
    "# 방문여부 리스트: 일단 False로 초기화\n",
    "visited = [False] * 9\n",
    "\n",
    "# 정의된 DFS 함수 호출\n",
    "dfs(graph, 1, visited)\n"
   ]
  },
  {
   "attachments": {},
   "cell_type": "markdown",
   "metadata": {},
   "source": [
    "## 예제 5-9. BFS\n",
    "* 원하는 것: 큐 자료구조에 인접한 노드를 반복적으로 넣었다 뺐다 시키기\n",
    "- 탐색 시작 노드 큐에 넣고 방문처리\n",
    "- -> 큐에서 해당 노드 꺼내고, 해당 노드의 인접 노드 중 미방문 노드를 전부 큐에 넣고 방문처리\n",
    "- -> 위 과정 반복\n",
    "* DFS보다 조금 빠르게 동작"
   ]
  },
  {
   "cell_type": "code",
   "execution_count": 15,
   "metadata": {},
   "outputs": [
    {
     "name": "stdout",
     "output_type": "stream",
     "text": [
      "1 2 3 8 7 4 5 6 "
     ]
    }
   ],
   "source": [
    "from collections import deque\n",
    "\n",
    "# BFS 메소드 정리\n",
    "def bfs(graph, start, visited):\n",
    "\n",
    "    # queue 구현 위해 deque 라이브러리 사용\n",
    "    queue = deque([start])\n",
    "\n",
    "    # 현재 노드 방문처리\n",
    "    visited[start] = True\n",
    "\n",
    "    # 큐가 빌 때까지 반복\n",
    "    while queue:\n",
    "\n",
    "        # 큐에서 원소 하나 뽑고, 뽑힌 원소 출력\n",
    "        # 큐잖아? 선입선출 구현이면 popleft()\n",
    "        v = queue.popleft()\n",
    "        print(v, end=' ')\n",
    "\n",
    "        # 해당 원소와 연결된 미방문 원소 큐에 삽입\n",
    "        for i in graph[v]:\n",
    "            if not visited[i]:  # visited[i] = [False] 일때\n",
    "                queue.append(i)\n",
    "                visited[i] = True\n",
    "\n",
    "\n",
    "# 노드 연결 정보 리스트 자료형으로 표현 (2차원 리스트)\n",
    "graph = [[], [2, 3, 8], [1, 7], [1, 4, 5], [3, 5], [3, 4], [7], [2, 6, 8], [1, 7]]\n",
    "\n",
    "# 각 노드가 방문한 정보를 리스트 자료형으로 표현\n",
    "visited = [False] * 9 # [False, False, False, False, False, False, False, False, False]\n",
    "\n",
    "# 정의된 BFS 함수 노출\n",
    "bfs(graph, 1, visited)"
   ]
  },
  {
   "attachments": {},
   "cell_type": "markdown",
   "metadata": {},
   "source": [
    "## 실전. 음료수 얼려 먹기"
   ]
  },
  {
   "cell_type": "code",
   "execution_count": null,
   "metadata": {},
   "outputs": [],
   "source": []
  },
  {
   "attachments": {},
   "cell_type": "markdown",
   "metadata": {},
   "source": [
    "## 실전. 미로탈출"
   ]
  },
  {
   "cell_type": "code",
   "execution_count": null,
   "metadata": {},
   "outputs": [],
   "source": []
  }
 ],
 "metadata": {
  "kernelspec": {
   "display_name": "Python 3",
   "language": "python",
   "name": "python3"
  },
  "language_info": {
   "codemirror_mode": {
    "name": "ipython",
    "version": 3
   },
   "file_extension": ".py",
   "mimetype": "text/x-python",
   "name": "python",
   "nbconvert_exporter": "python",
   "pygments_lexer": "ipython3",
   "version": "3.9.13"
  },
  "orig_nbformat": 4
 },
 "nbformat": 4,
 "nbformat_minor": 2
}
