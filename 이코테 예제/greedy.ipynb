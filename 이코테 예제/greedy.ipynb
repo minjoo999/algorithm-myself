{
 "cells": [
  {
   "attachments": {},
   "cell_type": "markdown",
   "metadata": {},
   "source": [
    "# 그리디 알고리즘 예제 (이코테)"
   ]
  },
  {
   "attachments": {},
   "cell_type": "markdown",
   "metadata": {},
   "source": [
    "## 예제 3-1. 거스름돈"
   ]
  },
  {
   "cell_type": "code",
   "execution_count": 4,
   "metadata": {},
   "outputs": [
    {
     "name": "stdout",
     "output_type": "stream",
     "text": [
      "동전:  7 개\n",
      "작동시간:  0.0010013580322265625\n"
     ]
    }
   ],
   "source": [
    "import time\n",
    "\n",
    "N = int(input())\n",
    "\n",
    "start_time = time.time()\n",
    "\n",
    "a = N // 500\n",
    "b = (N - 500*a) // 100\n",
    "c = (N - 500*a - 100*b) // 50\n",
    "d = (N - 500*a - 100*b - 50*c) // 10\n",
    "\n",
    "print(\"동전: \", a + b + c + d, \"개\")\n",
    "\n",
    "end_time = time.time()\n",
    "\n",
    "print(\"작동시간: \", end_time - start_time)"
   ]
  },
  {
   "attachments": {},
   "cell_type": "markdown",
   "metadata": {},
   "source": [
    "## 큰 수의 법칙"
   ]
  },
  {
   "cell_type": "code",
   "execution_count": 17,
   "metadata": {},
   "outputs": [
    {
     "name": "stdout",
     "output_type": "stream",
     "text": [
      "46\n",
      "작동시간:  0.0011208057403564453\n"
     ]
    }
   ],
   "source": [
    "import time\n",
    "\n",
    "N, M, K = map(int, input().split())\n",
    "nums = list(map(int, input().split()))\n",
    "\n",
    "start_time = time.time()\n",
    "\n",
    "# max 값이 2개 이상 -> max값 M번 곱하기\n",
    "if nums.count(max(nums)) >= 2:\n",
    "    answer = max(nums) * N\n",
    "    print(answer)\n",
    "\n",
    "# max 값이 1개 -> max값*k + 두번째값 + max값*k 이런 식으로, 더해지는 값들의 합이 M 될때까지\n",
    "# turn + 1을 반복하는 것도 좋지만, M을 깎아서 0으로 만드는 아이디어도 가능\n",
    "else:\n",
    "    answer = 0\n",
    "    nums = sorted(nums)\n",
    "    turn = 0\n",
    "\n",
    "    while True:\n",
    "        if turn < M:\n",
    "            for j in range(K):\n",
    "                answer += max(nums)\n",
    "                # print(answer)\n",
    "                turn += 1\n",
    "                # print(turn)\n",
    "                # print(answer)\n",
    "            answer += nums[-2]\n",
    "            turn += 1\n",
    "            # print(answer)\n",
    "            # print(turn)\n",
    "            continue\n",
    "        else:\n",
    "            print(answer)\n",
    "            break\n",
    "\n",
    "end_time = time.time()\n",
    "\n",
    "print(\"작동시간: \", end_time - start_time)\n"
   ]
  },
  {
   "attachments": {},
   "cell_type": "markdown",
   "metadata": {},
   "source": [
    "## 숫자 카드 게임"
   ]
  },
  {
   "cell_type": "code",
   "execution_count": 21,
   "metadata": {},
   "outputs": [
    {
     "name": "stdout",
     "output_type": "stream",
     "text": [
      "3\n"
     ]
    }
   ],
   "source": [
    "# import time\n",
    "\n",
    "N, M = map(int, input().split())\n",
    "\n",
    "# 숫자 입력 받아서 리스트 만들고, 최소값 뽑기\n",
    "nums = []\n",
    "for i in range(N):\n",
    "    li = list(map(int, input().split()))\n",
    "    nums.append(min(li))\n",
    "\n",
    "# 최소값 간에 비교해서 개중 제일 큰거 프린트\n",
    "print(max(nums))"
   ]
  },
  {
   "attachments": {},
   "cell_type": "markdown",
   "metadata": {},
   "source": [
    "## 1이 될 때까지"
   ]
  },
  {
   "cell_type": "code",
   "execution_count": 25,
   "metadata": {},
   "outputs": [
    {
     "name": "stdout",
     "output_type": "stream",
     "text": [
      "2\n",
      "작동시간:  0.0010006427764892578\n"
     ]
    }
   ],
   "source": [
    "import time\n",
    "\n",
    "N, K = map(int, input().split())\n",
    "\n",
    "start_time = time.time()\n",
    "\n",
    "turn = 0\n",
    "\n",
    "while True:\n",
    "    if N % K == 0:\n",
    "        N = N // K\n",
    "        turn += 1\n",
    "        continue\n",
    "    elif N == 1:\n",
    "        print(turn)\n",
    "        break\n",
    "    else:\n",
    "        N = N - 1\n",
    "        turn += 1\n",
    "        continue\n",
    "\n",
    "end_time = time.time()\n",
    "\n",
    "print(\"작동시간: \", end_time - start_time)\n"
   ]
  },
  {
   "cell_type": "code",
   "execution_count": null,
   "metadata": {},
   "outputs": [],
   "source": []
  },
  {
   "cell_type": "code",
   "execution_count": null,
   "metadata": {},
   "outputs": [],
   "source": []
  }
 ],
 "metadata": {
  "kernelspec": {
   "display_name": "Python 3",
   "language": "python",
   "name": "python3"
  },
  "language_info": {
   "codemirror_mode": {
    "name": "ipython",
    "version": 3
   },
   "file_extension": ".py",
   "mimetype": "text/x-python",
   "name": "python",
   "nbconvert_exporter": "python",
   "pygments_lexer": "ipython3",
   "version": "3.9.13"
  },
  "orig_nbformat": 4
 },
 "nbformat": 4,
 "nbformat_minor": 2
}
