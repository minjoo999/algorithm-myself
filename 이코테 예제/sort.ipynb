{
 "cells": [
  {
   "attachments": {},
   "cell_type": "markdown",
   "metadata": {},
   "source": [
    "# 이코테 정렬"
   ]
  },
  {
   "attachments": {},
   "cell_type": "markdown",
   "metadata": {},
   "source": [
    "## 예제 6-1. 선택정렬"
   ]
  },
  {
   "cell_type": "code",
   "execution_count": 5,
   "metadata": {},
   "outputs": [
    {
     "name": "stdout",
     "output_type": "stream",
     "text": [
      "0\n",
      "1\n",
      "2\n",
      "3\n",
      "4\n",
      "5\n",
      "6\n",
      "7\n",
      "8\n",
      "9\n",
      "[0, 1, 2, 3, 4, 5, 6, 7, 8, 9]\n"
     ]
    }
   ],
   "source": [
    "array = [7, 5, 9, 0, 3, 1, 6, 2, 4, 8]\n",
    "\n",
    "for i in range(len(array)):\n",
    "    min_index = i\n",
    "    print(min_index)\n",
    "    for j in range(i + 1, len(array)):\n",
    "        if array[min_index] > array[j]:\n",
    "            min_index = j\n",
    "    array[i], array[min_index] = array[min_index], array[i] # 스와프\n",
    "    # print(array)\n",
    "\n",
    "print(array)"
   ]
  },
  {
   "attachments": {},
   "cell_type": "markdown",
   "metadata": {},
   "source": [
    "## 예제 6-3. 삽입정렬\n",
    "- 기본 시간복잡도는 O(N제곱)\n",
    "- 거의 정렬 다 된 경우 O(N) 시간복잡도 나오기도 함"
   ]
  },
  {
   "cell_type": "code",
   "execution_count": 1,
   "metadata": {},
   "outputs": [
    {
     "name": "stdout",
     "output_type": "stream",
     "text": [
      "[0, 1, 2, 3, 4, 5, 6, 7, 8, 9]\n"
     ]
    }
   ],
   "source": [
    "array = [7, 5, 9, 0, 3, 1, 6, 2, 4, 8]\n",
    "\n",
    "for i in range(1, len(array)):  # index 1 (두번째 순서) 부터 끝에서 2번째 까지\n",
    "    for j in range(i, 0, -1):   # i부터 인덱스 0 (처음)까지 거꾸로 세기\n",
    "        if array[j] < array[j - 1]: # 바로 앞 인덱스보다 해당 수가 작으면, 해당 수를 앞으로 보내기 (반복)\n",
    "            array[j], array[j - 1] = array[j - 1], array[j]\n",
    "        else:\n",
    "            break\n",
    "\n",
    "# 정렬 완료 결과 출력\n",
    "print(array)"
   ]
  },
  {
   "attachments": {},
   "cell_type": "markdown",
   "metadata": {},
   "source": [
    "## 예제 6-4. 퀵 정렬 기본\n",
    "- 기본 시간복잡도는 O{NlogN}"
   ]
  },
  {
   "cell_type": "code",
   "execution_count": 3,
   "metadata": {},
   "outputs": [
    {
     "name": "stdout",
     "output_type": "stream",
     "text": [
      "[0, 1, 2, 3, 4, 5, 6, 7, 8, 9]\n"
     ]
    }
   ],
   "source": [
    "array = [5, 7, 9, 0, 3, 1, 6, 2, 4, 8]\n",
    "\n",
    "def quick_sort(array, start, end):\n",
    "    if start >= end:    # 원소 1개면 끝내기\n",
    "        return\n",
    "    pivot = start # 첫번째 원소가 피벗\n",
    "\n",
    "    # 인덱스값\n",
    "    # 처음 시작할 때, 왼쪽 오른쪽으로 한 칸씩 좁혀 들어온 위치에 left, right 부여해주기\n",
    "    left = start + 1\n",
    "    right = end\n",
    "\n",
    "    # 왼쪽 인덱스값이 오른쪽 인덱스값보다 작은 일반적인 상황\n",
    "    while left <= right:\n",
    "\n",
    "        # 피벗보다 큰 데이터를 찾을 때까지 반복하는 것들\n",
    "        ## 인덱스 체크 통과한 뒤, array에서 left, right일 때의 값과 pivot 값 비교해서\n",
    "        ## 범위 좁혀 들어가기\n",
    "        while left <= end and array[left] <= array[pivot]:\n",
    "            left += 1\n",
    "        while right > start and array[right] >= array[pivot]:\n",
    "            right -= 1\n",
    "\n",
    "        # 왼쪽에서 좁혀들어간 인덱스가 오른쪽에서 좁혀들어간 인덱스보다 더 오른쪽일 시\n",
    "        ## 작은 데이터와 피벗 교체    \n",
    "        if left > right:\n",
    "            array[right], array[pivot] = array[pivot], array[right]\n",
    "        # 인덱스 안 엇갈릴 시\n",
    "        ## 작은 데이터와 큰 데이터 교체\n",
    "        else:\n",
    "            array[left], array[right] = array[right], array[left]\n",
    "    \n",
    "    # 분할 작업 이후 왼쪽, 오른쪽 각각 정렬 시행\n",
    "    quick_sort(array, start, right - 1)\n",
    "    quick_sort(array, right + 1, end)\n",
    "\n",
    "quick_sort(array, 0, len(array) - 1)\n",
    "print(array)"
   ]
  },
  {
   "attachments": {},
   "cell_type": "markdown",
   "metadata": {},
   "source": [
    "## 예제 6-5. 퀵 정렬 심플한 예시코드"
   ]
  },
  {
   "cell_type": "code",
   "execution_count": 6,
   "metadata": {},
   "outputs": [
    {
     "name": "stdout",
     "output_type": "stream",
     "text": [
      "[0, 1, 2, 3, 4, 5, 6, 7, 8, 9]\n"
     ]
    }
   ],
   "source": [
    "array = [5, 7, 9, 0, 3, 1, 6, 2, 4, 8]\n",
    "\n",
    "def quick_sort2(array):\n",
    "    if len(array) <= 1:\n",
    "        return array\n",
    "    \n",
    "    pivot = array[0]    # 첫번째 요소가 피벗\n",
    "    tail = array[1:]    # 피벗 오른쪽은 전부 tail\n",
    "\n",
    "    # tail 중 피벗보다 왼쪽, 오른쪽 분리하기\n",
    "    left_side = [x for x in tail if x <= pivot]\n",
    "    right_side = [x for x in tail if x > pivot]\n",
    "\n",
    "    # left_side, right_side 각각 퀵정렬 수행하고 피봇과 함께 리턴하기\n",
    "    return quick_sort2(left_side) + [pivot] + quick_sort2(right_side)\n",
    "\n",
    "print(quick_sort2(array))"
   ]
  },
  {
   "attachments": {},
   "cell_type": "markdown",
   "metadata": {},
   "source": [
    "## 예제 6-6. 계수 정렬\n",
    "- 시간복잡도 O{N + K}\n",
    "- 데이터 크기 범위 한정 및 같은 크기 가지는 데이터가 많을 시 매우 빠르게 동작, 크기 무한정 시 사용불가"
   ]
  },
  {
   "cell_type": "code",
   "execution_count": 7,
   "metadata": {},
   "outputs": [
    {
     "name": "stdout",
     "output_type": "stream",
     "text": [
      "0 0 1 1 2 2 3 4 5 5 6 7 8 9 9 "
     ]
    }
   ],
   "source": [
    "array = [7, 5, 9, 0, 3, 1, 6, 2, 9, 1, 4, 8, 0, 5, 2]\n",
    "\n",
    "count = [0] * (max(array) + 1)  # [0, 0, 0, ...] 0 10개짜리 리스트 생성\n",
    "\n",
    "# i = 0 -> array[0] = 7 -> count[7]을 1 늘림\n",
    "for i in range(len(array)):\n",
    "    count[array[i]] += 1\n",
    "\n",
    "# i를 count[i]번 출력하기 (예: count[0] = 3 이라면 0 0 0 출력)\n",
    "for i in range(len(count)):\n",
    "    for j in range(count[i]):\n",
    "        print(i, end=' ')"
   ]
  },
  {
   "attachments": {},
   "cell_type": "markdown",
   "metadata": {},
   "source": [
    "## 예제 6-7~9. sort 메소드 활용\n",
    "- ```sorted()``` 함수는 병합정렬 기반, 시간복잡도 ```O(NlogN)``` 보장\n",
    "### 예제 6-7. sorted() 소스코드"
   ]
  },
  {
   "cell_type": "code",
   "execution_count": 8,
   "metadata": {},
   "outputs": [
    {
     "name": "stdout",
     "output_type": "stream",
     "text": [
      "[0, 1, 2, 3, 4, 5, 6, 7, 8, 9]\n"
     ]
    }
   ],
   "source": [
    "array = [7, 5, 9, 0, 3, 1, 6, 2, 4, 8]\n",
    "\n",
    "result = sorted(array)\n",
    "print(result)"
   ]
  },
  {
   "attachments": {},
   "cell_type": "markdown",
   "metadata": {},
   "source": [
    "### 예졔 6-8. sort 소스코드"
   ]
  },
  {
   "cell_type": "code",
   "execution_count": 9,
   "metadata": {},
   "outputs": [
    {
     "name": "stdout",
     "output_type": "stream",
     "text": [
      "[0, 1, 2, 3, 4, 5, 6, 7, 8, 9]\n"
     ]
    }
   ],
   "source": [
    "array = [7, 5, 9, 0, 3, 1, 6, 2, 4, 8]\n",
    "\n",
    "array.sort()\n",
    "print(array)"
   ]
  },
  {
   "attachments": {},
   "cell_type": "markdown",
   "metadata": {},
   "source": [
    "### 예제 6-9. sorted + key 매개변수 활용\n",
    "- 아래: 튜플 중 뒤에 넣은 숫자값이 키값이라고 배정해주기"
   ]
  },
  {
   "cell_type": "code",
   "execution_count": 10,
   "metadata": {},
   "outputs": [
    {
     "name": "stdout",
     "output_type": "stream",
     "text": [
      "[('바나나', 2), ('당근', 3), ('사과', 5)]\n"
     ]
    }
   ],
   "source": [
    "array = [('바나나', 2), ('사과', 5), ('당근', 3)]\n",
    "\n",
    "def setting(data):\n",
    "    return data[1]\n",
    "\n",
    "result = sorted(array, key=setting)\n",
    "print(result)"
   ]
  },
  {
   "attachments": {},
   "cell_type": "markdown",
   "metadata": {},
   "source": [
    "## 실전. 위에서 아래로"
   ]
  },
  {
   "cell_type": "code",
   "execution_count": 11,
   "metadata": {},
   "outputs": [
    {
     "name": "stdout",
     "output_type": "stream",
     "text": [
      "[27, 15, 12]\n"
     ]
    }
   ],
   "source": [
    "N = int(input())\n",
    "nums = [int(input()) for i in range(N)]\n",
    "\n",
    "result = sorted(nums, reverse=True)\n",
    "print(result)"
   ]
  },
  {
   "attachments": {},
   "cell_type": "markdown",
   "metadata": {},
   "source": [
    "## 실전. 성적이 낮은 순서대로 학생 출력하기"
   ]
  },
  {
   "cell_type": "code",
   "execution_count": 14,
   "metadata": {},
   "outputs": [
    {
     "name": "stdout",
     "output_type": "stream",
     "text": [
      "이순신 홍길동 "
     ]
    }
   ],
   "source": [
    "N = int(input())\n",
    "\n",
    "stds = []\n",
    "for i in range(N):\n",
    "    input_data = input().split()\n",
    "    stds.append((input_data[0], int(input_data[1])))\n",
    "\n",
    "def std_key(data):\n",
    "    return data[1]\n",
    "\n",
    "result = sorted(stds, key=std_key)\n",
    "\n",
    "for res in result:\n",
    "    print(res[0], end=' ')"
   ]
  },
  {
   "attachments": {},
   "cell_type": "markdown",
   "metadata": {},
   "source": [
    "## 실전. 두 배열의 원소 교체"
   ]
  },
  {
   "cell_type": "code",
   "execution_count": 16,
   "metadata": {},
   "outputs": [
    {
     "name": "stdout",
     "output_type": "stream",
     "text": [
      "26\n"
     ]
    }
   ],
   "source": [
    "N, K = map(int, input().split())\n",
    "A = list(map(int, input().split()))\n",
    "B = list(map(int, input().split()))\n",
    "\n",
    "A1 = sorted(A)\n",
    "B1 = sorted(B, reverse=True)\n",
    "\n",
    "for i in range(K):\n",
    "    if A1[i] < B1[i]:\n",
    "        A1[i], B1[i] = B1[i], A1[i]\n",
    "    else:\n",
    "        break\n",
    "\n",
    "print(sum(A1))"
   ]
  },
  {
   "cell_type": "code",
   "execution_count": null,
   "metadata": {},
   "outputs": [],
   "source": []
  }
 ],
 "metadata": {
  "kernelspec": {
   "display_name": "Python 3",
   "language": "python",
   "name": "python3"
  },
  "language_info": {
   "codemirror_mode": {
    "name": "ipython",
    "version": 3
   },
   "file_extension": ".py",
   "mimetype": "text/x-python",
   "name": "python",
   "nbconvert_exporter": "python",
   "pygments_lexer": "ipython3",
   "version": "3.9.13"
  },
  "orig_nbformat": 4
 },
 "nbformat": 4,
 "nbformat_minor": 2
}
