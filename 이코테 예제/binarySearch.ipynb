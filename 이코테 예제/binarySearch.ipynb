{
 "cells": [
  {
   "attachments": {},
   "cell_type": "markdown",
   "metadata": {},
   "source": [
    "# 이코테 이진탐색\n",
    "## 예제 7-1. 순차 탐색"
   ]
  },
  {
   "cell_type": "code",
   "execution_count": 1,
   "metadata": {},
   "outputs": [
    {
     "name": "stdout",
     "output_type": "stream",
     "text": [
      "생성할 원소 개수를 입력한 다음 한 칸 띄고 찾을 문자열을 입력하세요.\n",
      "앞서 적은 원소 개수만큼 문자열을 입력하세요. 구분은 띄어쓰기 한 칸으로.\n",
      "3\n"
     ]
    }
   ],
   "source": [
    "def sequential_search(n, target, array):\n",
    "    # 원소 하나씩 하나씩 살펴보고, 타겟과 맞는 원소가 몇 번째인지 리턴값 뽑기\n",
    "    for i in range(n):\n",
    "        if array[i] == target:\n",
    "            return i + 1\n",
    "        \n",
    "print(\"생성할 원소 개수를 입력한 다음 한 칸 띄고 찾을 문자열을 입력하세요.\")\n",
    "input_data = input().split()\n",
    "n = int(input_data[0])\n",
    "target = input_data[1]\n",
    "\n",
    "print(\"앞서 적은 원소 개수만큼 문자열을 입력하세요. 구분은 띄어쓰기 한 칸으로.\")\n",
    "array = input().split()\n",
    "\n",
    "print(sequential_search(n, target, array))"
   ]
  },
  {
   "attachments": {},
   "cell_type": "markdown",
   "metadata": {},
   "source": [
    "## 예제 7-2. 이진탐색 재귀함수"
   ]
  },
  {
   "cell_type": "code",
   "execution_count": 2,
   "metadata": {},
   "outputs": [
    {
     "name": "stdout",
     "output_type": "stream",
     "text": [
      "4\n"
     ]
    }
   ],
   "source": [
    "def binary_search(array, target, start, end):\n",
    "    \n",
    "    # 정렬 제대로 돼있는지 확인. 안 돼있으면 작동 x\n",
    "    if start > end:\n",
    "        return None\n",
    "    \n",
    "    # 중간값 찾기\n",
    "    mid = (start + end) // 2\n",
    "\n",
    "    # 중간값이 찾으려는 값과 같으면, 그 중간값을 만드는 인덱스를 리턴하기\n",
    "    if array[mid] == target:\n",
    "        return mid\n",
    "    # 중간값 > 찾으려는 값 -> 중간값 왼쪽에서 이진탐색\n",
    "    ## 중간값 < 찾으려는 값 -> 중간값 오른쪽에서 이진탐색\n",
    "    elif array[mid] > target:\n",
    "        return binary_search(array, target, start, mid - 1)\n",
    "    else:\n",
    "        return binary_search(array, target, mid + 1, end)\n",
    "    \n",
    "# 입력받는 부분\n",
    "N, target = list(map(int, input().split()))\n",
    "array = list(map(int, input().split()))\n",
    "\n",
    "result = binary_search(array, target, 0, N - 1)\n",
    "if result == None:\n",
    "    print(\"원소가 존재하지 않습니다\")\n",
    "else:\n",
    "    print(result + 1)"
   ]
  },
  {
   "attachments": {},
   "cell_type": "markdown",
   "metadata": {},
   "source": [
    "## 예제 7-3. 이진탐색 반복문"
   ]
  },
  {
   "cell_type": "code",
   "execution_count": 15,
   "metadata": {},
   "outputs": [
    {
     "name": "stdout",
     "output_type": "stream",
     "text": [
      "4\n"
     ]
    }
   ],
   "source": [
    "def binary_search2(array, target, start, end):\n",
    "\n",
    "    # 중간인덱스 만들기\n",
    "    while start <= end:\n",
    "        mid = (start + end) // 2\n",
    "    \n",
    "        # 중간값이 찾으려는 값과 같으면 인덱스 반환\n",
    "        if array[mid] == target:\n",
    "            return mid\n",
    "        ## 중간값 > 찾으려는 값 -> 중간값 왼쪽을 끝점으로 삼아 중간값 찾고 인덱스 찾는 것 반복\n",
    "        ## 재귀함수 때 범위 바꿔서 재귀함수 넣던 거랑 사실 똑같음\n",
    "        elif array[mid] > target:\n",
    "            end = mid - 1\n",
    "        ## 중간값 < 찾으려는 값 -> 중간값 오른쪽을 시작점으로 삼아 중간값 찾고 인덱스 찾는 것 반복\n",
    "        else:\n",
    "            start = mid + 1\n",
    "    \n",
    "    # 정렬 미비로 시작 자체가 안되면 return None\n",
    "    return None\n",
    "\n",
    "# 입력 받기\n",
    "N, target = list(map(int, input().split()))\n",
    "array = list(map(int, input().split()))\n",
    "\n",
    "# 연산\n",
    "result = binary_search2(array, target, 0, N - 1)\n",
    "if result == None:\n",
    "    print(\"원소가 존재하지 않습니다\")\n",
    "else:\n",
    "    print(result + 1)"
   ]
  },
  {
   "attachments": {},
   "cell_type": "markdown",
   "metadata": {},
   "source": [
    "## 예제 7-4. 빠른 입출력"
   ]
  },
  {
   "cell_type": "code",
   "execution_count": 4,
   "metadata": {},
   "outputs": [],
   "source": [
    "import sys\n",
    "\n",
    "input_data = sys.stdin.readline().rstrip()\n",
    "\n",
    "print(input_data)\n",
    "\n",
    "# 주피터에서는 작동 x"
   ]
  },
  {
   "attachments": {},
   "cell_type": "markdown",
   "metadata": {},
   "source": [
    "## 실전. 부품 찾기\n",
    "### 내 답안 (= 이진탐색)"
   ]
  },
  {
   "cell_type": "code",
   "execution_count": 8,
   "metadata": {},
   "outputs": [
    {
     "name": "stdout",
     "output_type": "stream",
     "text": [
      "No Yes Yes "
     ]
    }
   ],
   "source": [
    "def bin_search(array, target, start, end):\n",
    "    if start > end:\n",
    "        return None\n",
    "    \n",
    "    mid = (start + end) // 2\n",
    "\n",
    "    if array[mid] == target:\n",
    "        return mid\n",
    "    # 중간값 < 목표값 -> 중간값 오른쪽 이진탐색\n",
    "    elif array[mid] < target:\n",
    "        return bin_search(array, target, mid + 1, end)\n",
    "    # 중간값 > 목표값 -> 중간값 왼쪽 이진탐색\n",
    "    else:\n",
    "        return bin_search(array, target, start, mid - 1)\n",
    "    \n",
    "    # return None\n",
    "\n",
    "N = int(input())\n",
    "store = list(map(int, input().split()))\n",
    "\n",
    "M = int(input())\n",
    "guest = list(map(int, input().split()))\n",
    "\n",
    "store.sort()\n",
    "\n",
    "for i in guest:\n",
    "    # 첫 시작할 때, store에서 찾으니까 store의 원소갯수를 bin_search에 넣어야 하는 거였어...\n",
    "    a = bin_search(store, i, 0, N - 1)\n",
    "    if a == None:\n",
    "        print(\"No\", end=' ')\n",
    "    else:\n",
    "        print(\"Yes\", end=' ')\n",
    "    "
   ]
  },
  {
   "attachments": {},
   "cell_type": "markdown",
   "metadata": {},
   "source": [
    "### 계수 정렬 답안 "
   ]
  },
  {
   "cell_type": "code",
   "execution_count": 1,
   "metadata": {},
   "outputs": [
    {
     "name": "stdout",
     "output_type": "stream",
     "text": [
      "No Yes Yes "
     ]
    }
   ],
   "source": [
    "# 가게 부품 개수 입력\n",
    "N = int(input())\n",
    "array = [0] * 1000001\n",
    "\n",
    "# 가게에 있는 부품 번호 찾아서 있다고 표시하기\n",
    "## 8, 3, 7, 9, 2 입력 -> array[8] = 1 됨 (반복)\n",
    "for i in input().split():\n",
    "    array[int(i)] = 1\n",
    "\n",
    "# 손님이 요구하는 부품 갯수 및 품목 리스트\n",
    "M = int(input())\n",
    "guest = list(map(int, input().split()))\n",
    "\n",
    "# 고객이 원하는 부품이 있나요? 그러면 Yes, 아니면 No\n",
    "for i in guest:\n",
    "    if array[i] == 1:\n",
    "        print(\"Yes\", end=' ')\n",
    "    else:\n",
    "        print(\"No\", end=' ')"
   ]
  },
  {
   "attachments": {},
   "cell_type": "markdown",
   "metadata": {},
   "source": [
    "### 집합자료형 이용 답안"
   ]
  },
  {
   "cell_type": "code",
   "execution_count": 2,
   "metadata": {},
   "outputs": [
    {
     "name": "stdout",
     "output_type": "stream",
     "text": [
      "No Yes Yes "
     ]
    }
   ],
   "source": [
    "# 가게 부품 개수 및 전체 부품 번호 입력\n",
    "# set(집합)자료형 이용하여 중복 제거\n",
    "N = int(input())\n",
    "array = set(map(int, input().split()))\n",
    "\n",
    "# 손님의 부품개수 및 번호 입력\n",
    "M = int(input())\n",
    "guest = list(map(int, input().split()))\n",
    "\n",
    "# 부품번호 하나씩 확인하기\n",
    "for i in guest:\n",
    "    if i in array:\n",
    "        print(\"Yes\", end=' ')\n",
    "    else:\n",
    "        print(\"No\", end=' ')"
   ]
  },
  {
   "attachments": {},
   "cell_type": "markdown",
   "metadata": {},
   "source": [
    "## 실전. 떡볶이 떡 만들기"
   ]
  },
  {
   "cell_type": "code",
   "execution_count": null,
   "metadata": {},
   "outputs": [],
   "source": []
  }
 ],
 "metadata": {
  "kernelspec": {
   "display_name": "Python 3",
   "language": "python",
   "name": "python3"
  },
  "language_info": {
   "codemirror_mode": {
    "name": "ipython",
    "version": 3
   },
   "file_extension": ".py",
   "mimetype": "text/x-python",
   "name": "python",
   "nbconvert_exporter": "python",
   "pygments_lexer": "ipython3",
   "version": "3.9.13"
  },
  "orig_nbformat": 4
 },
 "nbformat": 4,
 "nbformat_minor": 2
}
