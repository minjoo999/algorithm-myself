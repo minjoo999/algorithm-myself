{
 "cells": [
  {
   "attachments": {},
   "cell_type": "markdown",
   "metadata": {},
   "source": [
    "# 이코테 이진탐색\n",
    "## 예제 7-1. 순차 탐색"
   ]
  },
  {
   "cell_type": "code",
   "execution_count": 1,
   "metadata": {},
   "outputs": [
    {
     "name": "stdout",
     "output_type": "stream",
     "text": [
      "생성할 원소 개수를 입력한 다음 한 칸 띄고 찾을 문자열을 입력하세요.\n",
      "앞서 적은 원소 개수만큼 문자열을 입력하세요. 구분은 띄어쓰기 한 칸으로.\n",
      "3\n"
     ]
    }
   ],
   "source": [
    "def sequential_search(n, target, array):\n",
    "    # 원소 하나씩 하나씩 살펴보고, 타겟과 맞는 원소가 몇 번째인지 리턴값 뽑기\n",
    "    for i in range(n):\n",
    "        if array[i] == target:\n",
    "            return i + 1\n",
    "        \n",
    "print(\"생성할 원소 개수를 입력한 다음 한 칸 띄고 찾을 문자열을 입력하세요.\")\n",
    "input_data = input().split()\n",
    "n = int(input_data[0])\n",
    "target = input_data[1]\n",
    "\n",
    "print(\"앞서 적은 원소 개수만큼 문자열을 입력하세요. 구분은 띄어쓰기 한 칸으로.\")\n",
    "array = input().split()\n",
    "\n",
    "print(sequential_search(n, target, array))"
   ]
  },
  {
   "attachments": {},
   "cell_type": "markdown",
   "metadata": {},
   "source": [
    "## 예제 7-2. 이진탐색 재귀함수"
   ]
  },
  {
   "cell_type": "code",
   "execution_count": 2,
   "metadata": {},
   "outputs": [
    {
     "name": "stdout",
     "output_type": "stream",
     "text": [
      "4\n"
     ]
    }
   ],
   "source": [
    "def binary_search(array, target, start, end):\n",
    "    \n",
    "    # 정렬 제대로 돼있는지 확인. 안 돼있으면 작동 x\n",
    "    if start > end:\n",
    "        return None\n",
    "    \n",
    "    # 중간값 찾기\n",
    "    mid = (start + end) // 2\n",
    "\n",
    "    # 중간값이 찾으려는 값과 같으면, 그 중간값을 만드는 인덱스를 리턴하기\n",
    "    if array[mid] == target:\n",
    "        return mid\n",
    "    # 중간값 > 찾으려는 값 -> 중간값 왼쪽에서 이진탐색\n",
    "    ## 중간값 < 찾으려는 값 -> 중간값 오른쪽에서 이진탐색\n",
    "    elif array[mid] > target:\n",
    "        return binary_search(array, target, start, mid - 1)\n",
    "    else:\n",
    "        return binary_search(array, target, mid + 1, end)\n",
    "    \n",
    "# 입력받는 부분\n",
    "N, target = list(map(int, input().split()))\n",
    "array = list(map(int, input().split()))\n",
    "\n",
    "result = binary_search(array, target, 0, n - 1)\n",
    "if result == None:\n",
    "    print(\"원소가 존재하지 않습니다\")\n",
    "else:\n",
    "    print(result + 1)"
   ]
  },
  {
   "attachments": {},
   "cell_type": "markdown",
   "metadata": {},
   "source": [
    "## 예제 7-3. 이진탐색 반복문"
   ]
  },
  {
   "cell_type": "code",
   "execution_count": 3,
   "metadata": {},
   "outputs": [
    {
     "name": "stdout",
     "output_type": "stream",
     "text": [
      "원소가 존재하지 않습니다\n"
     ]
    }
   ],
   "source": [
    "def binary_search2(array, target, start, end):\n",
    "\n",
    "    # 중간인덱스 만들기\n",
    "    while start <= end:\n",
    "        mid = (start + end) // 2\n",
    "    \n",
    "    # 중간값이 찾으려는 값과 같으면 인덱스 반환\n",
    "    if array[mid] == target:\n",
    "        return mid\n",
    "    ## 중간값 > 찾으려는 값 -> 중간값 왼쪽을 끝점으로 삼아 중간값 찾고 인덱스 찾는 것 반복\n",
    "    ## 재귀함수 때 범위 바꿔서 재귀함수 넣던 거랑 사실 똑같음\n",
    "    elif array[mid] > target:\n",
    "        end = mid - 1\n",
    "    ## 중간값 < 찾으려는 값 -> 중간값 오른쪽을 시작점으로 삼아 중간값 찾고 인덱스 찾는 것 반복\n",
    "    else:\n",
    "        start = mid + 1\n",
    "    \n",
    "    # 정렬 미비로 시작 자체가 안되면 return None\n",
    "    return None\n",
    "\n",
    "# 입력 받기\n",
    "N, target = list(map(int, input().split()))\n",
    "array = list(map(int, input().split()))\n",
    "\n",
    "# 연산\n",
    "result = binary_search(array, target, 0, n - 1)\n",
    "if result == None:\n",
    "    print(\"원소가 존재하지 않습니다\")\n",
    "else:\n",
    "    print(result + 1)"
   ]
  },
  {
   "attachments": {},
   "cell_type": "markdown",
   "metadata": {},
   "source": [
    "## 예제 7-4. 빠른 입출력"
   ]
  },
  {
   "cell_type": "code",
   "execution_count": 4,
   "metadata": {},
   "outputs": [],
   "source": [
    "import sys\n",
    "\n",
    "input_data = sys.stdin.readline().rstrip()\n",
    "\n",
    "print(input_data)"
   ]
  },
  {
   "attachments": {},
   "cell_type": "markdown",
   "metadata": {},
   "source": [
    "## 실전. 부품 찾기\n",
    "### 이진 탐색 답안"
   ]
  },
  {
   "attachments": {},
   "cell_type": "markdown",
   "metadata": {},
   "source": [
    "### 계수 정렬 답안 "
   ]
  },
  {
   "attachments": {},
   "cell_type": "markdown",
   "metadata": {},
   "source": [
    "### 집합자료형 이용 답안"
   ]
  },
  {
   "attachments": {},
   "cell_type": "markdown",
   "metadata": {},
   "source": [
    "## 실전. 떡볶이 떡 만들기"
   ]
  }
 ],
 "metadata": {
  "kernelspec": {
   "display_name": "Python 3",
   "language": "python",
   "name": "python3"
  },
  "language_info": {
   "codemirror_mode": {
    "name": "ipython",
    "version": 3
   },
   "file_extension": ".py",
   "mimetype": "text/x-python",
   "name": "python",
   "nbconvert_exporter": "python",
   "pygments_lexer": "ipython3",
   "version": "3.9.13"
  },
  "orig_nbformat": 4
 },
 "nbformat": 4,
 "nbformat_minor": 2
}
