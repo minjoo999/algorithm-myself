{
 "cells": [
  {
   "attachments": {},
   "cell_type": "markdown",
   "metadata": {},
   "source": [
    "# 이코테 구현"
   ]
  },
  {
   "attachments": {},
   "cell_type": "markdown",
   "metadata": {},
   "source": [
    "## 예제 4-1. 상하좌우"
   ]
  },
  {
   "cell_type": "code",
   "execution_count": 8,
   "metadata": {},
   "outputs": [
    {
     "name": "stdout",
     "output_type": "stream",
     "text": [
      "3 4\n",
      "소요시간:  0.0010018348693847656\n"
     ]
    }
   ],
   "source": [
    "import time\n",
    "\n",
    "N = int(input())\n",
    "chars = list(map(str, input().split()))\n",
    "a = 1   # 행 (왼쪽좌표)\n",
    "b = 1   # 열 (오른쪽 좌표) # (a, b)\n",
    "\n",
    "start_time = time.time()\n",
    "\n",
    "# 변하게 될 start의 좌표가 1 미만 혹은 N 초과일 시만 빼면, LRUD가 작동하도록 구현하기\n",
    "for char in chars:\n",
    "    if char == \"L\":\n",
    "        if b == 1:\n",
    "            pass\n",
    "        else:\n",
    "            b -= 1\n",
    "    \n",
    "    elif char == \"R\":\n",
    "        if b == N:\n",
    "            pass\n",
    "        else:\n",
    "            b += 1\n",
    "\n",
    "    elif char == \"U\":\n",
    "        if a == 1:\n",
    "            pass\n",
    "        else:\n",
    "            a -= 1\n",
    "    \n",
    "    elif char == \"D\":\n",
    "        if a == N:\n",
    "            pass\n",
    "        else:\n",
    "            a += 1\n",
    "    else:\n",
    "        pass\n",
    "\n",
    "print(a, b)\n",
    "\n",
    "end_time = time.time()\n",
    "\n",
    "print(\"소요시간: \", end_time - start_time)\n"
   ]
  },
  {
   "attachments": {},
   "cell_type": "markdown",
   "metadata": {},
   "source": [
    "## 예제 4-2. 시각"
   ]
  },
  {
   "cell_type": "code",
   "execution_count": 23,
   "metadata": {},
   "outputs": [
    {
     "name": "stdout",
     "output_type": "stream",
     "text": [
      "6394\n"
     ]
    }
   ],
   "source": [
    "import time\n",
    "\n",
    "N = int(input())\n",
    "\n",
    "# 그냥 시간 세기\n",
    "\n",
    "# 시간 시작점\n",
    "t = 0\n",
    "m = 0\n",
    "s = 0\n",
    "\n",
    "# 3 등장횟수\n",
    "cnt = 0\n",
    "\n",
    "# 00:00:00 ~ N:59:59 까지 3이 나오면 cnt += 1 하기\n",
    "# 30, 34, 35와 23, 43, 53을 모두 체크하려면?\n",
    "\n",
    "def check_three(num, cnt):\n",
    "    if '3' in str(num):\n",
    "        cnt += 1\n",
    "        num += 1\n",
    "    else:\n",
    "        num += 1\n",
    "\n",
    "\n",
    "# 시분초 로직\n",
    "# 시\n",
    "# for i in range(N):\n",
    "#     if '3' in str(i):\n",
    "#         cnt += 1\n",
    "#         t += 1\n",
    "#     else:\n",
    "#         t += 1\n",
    "\n",
    "#     # 분\n",
    "#     for j in range(60):\n",
    "#         check_three(m, cnt)\n",
    "\n",
    "#         for k in range(60):\n",
    "#             check_three(s, cnt)\n",
    "\n",
    "\n",
    "# 시\n",
    "for i in range(N):\n",
    "\n",
    "    if '3' in str(i):\n",
    "        cnt += 1\n",
    "        t += 1\n",
    "    else:\n",
    "        t += 1\n",
    "\n",
    "    # 분\n",
    "    for j in range(60):\n",
    "\n",
    "        if '3' in str(m):\n",
    "            cnt += 1\n",
    "            m += 1\n",
    "        else:\n",
    "            m += 1\n",
    "\n",
    "\n",
    "        # 초\n",
    "        for k in range(60):\n",
    "            if '3' in str(s):\n",
    "                cnt += 1\n",
    "                s += 1\n",
    "            else:\n",
    "                s += 1\n",
    "\n",
    "\n",
    "print(cnt)\n",
    "\n"
   ]
  },
  {
   "attachments": {},
   "cell_type": "markdown",
   "metadata": {},
   "source": [
    "### 예시답안\n",
    "- 어차피 str 변환해서 3 있는지 판별할 거였으면\n",
    "- + 기호로 합쳐서 한번에 해결하는게 낫다...\n",
    "- 왜 위에서 함수 썼을 때는 1, 함수 안 썼을 때는 몇천이 뜨는지 알 수가 없음"
   ]
  },
  {
   "cell_type": "code",
   "execution_count": 24,
   "metadata": {},
   "outputs": [
    {
     "name": "stdout",
     "output_type": "stream",
     "text": [
      "11475\n"
     ]
    }
   ],
   "source": [
    "h = int(input())\n",
    "\n",
    "count = 0\n",
    "for i in range(h + 1):\n",
    "    for j in range(60):\n",
    "        for k in range(60):\n",
    "            if '3' in str(i) + str(j) + str(k):\n",
    "                count += 1\n",
    "\n",
    "print(count)"
   ]
  },
  {
   "attachments": {},
   "cell_type": "markdown",
   "metadata": {},
   "source": [
    "## 실전. 왕실의 나이트\n",
    "- 모든 케이스를 내가 세서 통제하려는 방법보다는\n",
    "- 그 모든 케이스를 포괄할 수 있는 한 가지 방법론을 반복시키는게 효율적"
   ]
  },
  {
   "cell_type": "code",
   "execution_count": 35,
   "metadata": {},
   "outputs": [
    {
     "name": "stdout",
     "output_type": "stream",
     "text": [
      "2\n"
     ]
    }
   ],
   "source": [
    "start = input()\n",
    "\n",
    "# a, b, c, d -> 숫자로 변환 \n",
    "col = ord(start[0]) - ord('a') + 1\n",
    "row = int(start[1])\n",
    "\n",
    "goto = [(2, 1), (2, -1), (-2, -1), (-2, 1), (1, 2), (1, -2), (-1, -2), (-1, 2)]\n",
    "a = len(goto)\n",
    "\n",
    "for go in goto:\n",
    "    ns = (col + go[0], row + go[1])\n",
    "    # print(ns)\n",
    "\n",
    "    if (ns[0] < 1) or (ns[0] > 8) or (ns[1] < 1) or (ns[1] > 8):\n",
    "        # goto.remove(go)\n",
    "        a -= 1\n",
    "        # print(goto)\n",
    "    else:\n",
    "        pass\n",
    "\n",
    "print(a)\n",
    "\n",
    "# goto.remove(go) 했을때는 누락되는 항이 생기는데\n",
    "# len(goto) 를 단위로 삼으니 누락 없이 제대로 카운트 됨"
   ]
  },
  {
   "attachments": {},
   "cell_type": "markdown",
   "metadata": {},
   "source": [
    "## 실전. 게임개발"
   ]
  },
  {
   "cell_type": "code",
   "execution_count": null,
   "metadata": {},
   "outputs": [],
   "source": []
  }
 ],
 "metadata": {
  "language_info": {
   "name": "python"
  },
  "orig_nbformat": 4
 },
 "nbformat": 4,
 "nbformat_minor": 2
}
