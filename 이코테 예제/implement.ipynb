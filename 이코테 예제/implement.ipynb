{
 "cells": [
  {
   "attachments": {},
   "cell_type": "markdown",
   "metadata": {},
   "source": [
    "# 이코테 구현"
   ]
  },
  {
   "attachments": {},
   "cell_type": "markdown",
   "metadata": {},
   "source": [
    "## 예제 4-1. 상하좌우"
   ]
  },
  {
   "cell_type": "code",
   "execution_count": 8,
   "metadata": {},
   "outputs": [
    {
     "name": "stdout",
     "output_type": "stream",
     "text": [
      "3 4\n",
      "소요시간:  0.0010018348693847656\n"
     ]
    }
   ],
   "source": [
    "import time\n",
    "\n",
    "N = int(input())\n",
    "chars = list(map(str, input().split()))\n",
    "a = 1   # 행 (왼쪽좌표)\n",
    "b = 1   # 열 (오른쪽 좌표) # (a, b)\n",
    "\n",
    "start_time = time.time()\n",
    "\n",
    "# 변하게 될 start의 좌표가 1 미만 혹은 N 초과일 시만 빼면, LRUD가 작동하도록 구현하기\n",
    "for char in chars:\n",
    "    if char == \"L\":\n",
    "        if b == 1:\n",
    "            pass\n",
    "        else:\n",
    "            b -= 1\n",
    "    \n",
    "    elif char == \"R\":\n",
    "        if b == N:\n",
    "            pass\n",
    "        else:\n",
    "            b += 1\n",
    "\n",
    "    elif char == \"U\":\n",
    "        if a == 1:\n",
    "            pass\n",
    "        else:\n",
    "            a -= 1\n",
    "    \n",
    "    elif char == \"D\":\n",
    "        if a == N:\n",
    "            pass\n",
    "        else:\n",
    "            a += 1\n",
    "    else:\n",
    "        pass\n",
    "\n",
    "print(a, b)\n",
    "\n",
    "end_time = time.time()\n",
    "\n",
    "print(\"소요시간: \", end_time - start_time)\n"
   ]
  },
  {
   "attachments": {},
   "cell_type": "markdown",
   "metadata": {},
   "source": [
    "## 예제 4-2. 시각"
   ]
  },
  {
   "cell_type": "code",
   "execution_count": 23,
   "metadata": {},
   "outputs": [
    {
     "name": "stdout",
     "output_type": "stream",
     "text": [
      "6394\n"
     ]
    }
   ],
   "source": [
    "import time\n",
    "\n",
    "N = int(input())\n",
    "\n",
    "# 그냥 시간 세기\n",
    "\n",
    "# 시간 시작점\n",
    "t = 0\n",
    "m = 0\n",
    "s = 0\n",
    "\n",
    "# 3 등장횟수\n",
    "cnt = 0\n",
    "\n",
    "# 00:00:00 ~ N:59:59 까지 3이 나오면 cnt += 1 하기\n",
    "# 30, 34, 35와 23, 43, 53을 모두 체크하려면?\n",
    "\n",
    "def check_three(num, cnt):\n",
    "    if '3' in str(num):\n",
    "        cnt += 1\n",
    "        num += 1\n",
    "    else:\n",
    "        num += 1\n",
    "\n",
    "\n",
    "# 시분초 로직\n",
    "# 시\n",
    "# for i in range(N):\n",
    "#     if '3' in str(i):\n",
    "#         cnt += 1\n",
    "#         t += 1\n",
    "#     else:\n",
    "#         t += 1\n",
    "\n",
    "#     # 분\n",
    "#     for j in range(60):\n",
    "#         check_three(m, cnt)\n",
    "\n",
    "#         for k in range(60):\n",
    "#             check_three(s, cnt)\n",
    "\n",
    "\n",
    "# 시\n",
    "for i in range(N):\n",
    "\n",
    "    if '3' in str(i):\n",
    "        cnt += 1\n",
    "        t += 1\n",
    "    else:\n",
    "        t += 1\n",
    "\n",
    "    # 분\n",
    "    for j in range(60):\n",
    "\n",
    "        if '3' in str(m):\n",
    "            cnt += 1\n",
    "            m += 1\n",
    "        else:\n",
    "            m += 1\n",
    "\n",
    "\n",
    "        # 초\n",
    "        for k in range(60):\n",
    "            if '3' in str(s):\n",
    "                cnt += 1\n",
    "                s += 1\n",
    "            else:\n",
    "                s += 1\n",
    "\n",
    "\n",
    "print(cnt)\n",
    "\n"
   ]
  },
  {
   "attachments": {},
   "cell_type": "markdown",
   "metadata": {},
   "source": [
    "### 예시답안\n",
    "- 어차피 str 변환해서 3 있는지 판별할 거였으면\n",
    "- + 기호로 합쳐서 한번에 해결하는게 낫다...\n",
    "- 왜 위에서 함수 썼을 때는 1, 함수 안 썼을 때는 몇천이 뜨는지 알 수가 없음"
   ]
  },
  {
   "cell_type": "code",
   "execution_count": 24,
   "metadata": {},
   "outputs": [
    {
     "name": "stdout",
     "output_type": "stream",
     "text": [
      "11475\n"
     ]
    }
   ],
   "source": [
    "h = int(input())\n",
    "\n",
    "count = 0\n",
    "for i in range(h + 1):\n",
    "    for j in range(60):\n",
    "        for k in range(60):\n",
    "            if '3' in str(i) + str(j) + str(k):\n",
    "                count += 1\n",
    "\n",
    "print(count)"
   ]
  },
  {
   "attachments": {},
   "cell_type": "markdown",
   "metadata": {},
   "source": [
    "## 실전. 왕실의 나이트\n",
    "- 모든 케이스를 내가 세서 통제하려는 방법보다는\n",
    "- 그 모든 케이스를 포괄할 수 있는 한 가지 방법론을 반복시키는게 효율적"
   ]
  },
  {
   "cell_type": "code",
   "execution_count": 35,
   "metadata": {},
   "outputs": [
    {
     "name": "stdout",
     "output_type": "stream",
     "text": [
      "2\n"
     ]
    }
   ],
   "source": [
    "start = input()\n",
    "\n",
    "# a, b, c, d -> 숫자로 변환 \n",
    "col = ord(start[0]) - ord('a') + 1\n",
    "row = int(start[1])\n",
    "\n",
    "goto = [(2, 1), (2, -1), (-2, -1), (-2, 1), (1, 2), (1, -2), (-1, -2), (-1, 2)]\n",
    "a = len(goto)\n",
    "\n",
    "for go in goto:\n",
    "    ns = (col + go[0], row + go[1])\n",
    "    # print(ns)\n",
    "\n",
    "    if (ns[0] < 1) or (ns[0] > 8) or (ns[1] < 1) or (ns[1] > 8):\n",
    "        # goto.remove(go)\n",
    "        a -= 1\n",
    "        # print(goto)\n",
    "    else:\n",
    "        pass\n",
    "\n",
    "print(a)\n",
    "\n",
    "# goto.remove(go) 했을때는 누락되는 항이 생기는데\n",
    "# len(goto) 를 단위로 삼으니 누락 없이 제대로 카운트 됨"
   ]
  },
  {
   "attachments": {},
   "cell_type": "markdown",
   "metadata": {},
   "source": [
    "## 실전. 게임개발\n",
    "### 예시답안"
   ]
  },
  {
   "cell_type": "code",
   "execution_count": 1,
   "metadata": {},
   "outputs": [
    {
     "name": "stdout",
     "output_type": "stream",
     "text": [
      "3\n"
     ]
    }
   ],
   "source": [
    "# 입력받기\n",
    "N, M = map(int, input().split())\n",
    "\n",
    "# 초반부 절차: 좌표별 방문여부 체크용 맵 생성 (전체 0으로 초기화) -> 현재 캐릭터의 좌표 및 방향을 앞서 만든 맵에 입력 \n",
    "# -> 게임에 주어진 맵정보 입력 (육지 or 바다?)\n",
    "\n",
    "# 맵생성 절차의 결과로 생성될 리스트 d는 아래와 같을 것\n",
    "## [ [0][0][0][0]\n",
    "## [0][0][0][0] ]\n",
    "## 2차원 리스트 -> 리스트 컴프리헨션\n",
    "d = [[0] * M for _ in range(N)]\n",
    "\n",
    "# 현재 캐릭터 좌표 및 방향. 현재 위치를 '다시 갈 수 없는 곳' 1로 처리\n",
    "x, y, direction = map(int, input().split())\n",
    "d[x][y] = 1\n",
    "\n",
    "# 전체 맵정보 (육지 or 바다)\n",
    "array = []\n",
    "for i in range(N):\n",
    "    array.append(list(map(int, input().split())))\n",
    "\n",
    "# dx, dy 리스트로 북, 동, 남, 서 방향 표현\n",
    "## dx는 남북, dy는 동서 좌표 담당\n",
    "dx = [-1, 0, 1, 0]\n",
    "dy = [0, 1, 0, -1]\n",
    "\n",
    "# \"왼쪽 방향으로 회전하고 이동 여부 결정하기\"가 기본 움직임 -> \"왼쪽으로 회전하기\" 함수 만들기\n",
    "## 여기에서의 direction은 dx, dy의 인덱스로 쓰임\n",
    "## dx, dy에서 북동남서는 시계방향 -> direction -= 1 은 반시계방향 돌리기 (if 구문도 같은 의미)\n",
    "def turn_left():\n",
    "    global direction\n",
    "    direction -= 1\n",
    "    if direction == -1:\n",
    "        direction = 3\n",
    "\n",
    "# 시뮬레이션 시작\n",
    "## count: 매뉴얼 전체 시행 횟수\n",
    "## turn_time: '왼쪽으로 회전'을 시행한 횟수\n",
    "count = 1\n",
    "turn_time = 0\n",
    "\n",
    "while True:\n",
    "    # 왼쪽으로 회전하고, 회전 이후 이동해야 할 좌표 기록해놓기\n",
    "    turn_left()\n",
    "    nx = x + dx[direction]\n",
    "    ny = y + dy[direction]\n",
    "\n",
    "    # nx, ny 구했으면 그걸로 d 위에서 좌표 위치 찾기\n",
    "    # 회전 이후 이동할 칸이 있는 경우\n",
    "    if d[nx][ny] == 0 and array[nx][ny] == 0:\n",
    "\n",
    "        # 방문여부맵 체크\n",
    "        d[nx][ny] = 1\n",
    "\n",
    "        # 좌표 찍고 count 횟수 올리기\n",
    "        x = nx\n",
    "        y = ny\n",
    "        count += 1\n",
    "        turn_time = 0\n",
    "        continue\n",
    "\n",
    "    # 회전 이후 이동할 칸이 없는 경우 (이미 갔거나, 바다이거나)\n",
    "    else:\n",
    "        turn_time += 1\n",
    "\n",
    "    # 다 돌았는데도 이동할 칸이 없는 경우 (이미 갔거나, 바다이거나)\n",
    "    if turn_time == 4:\n",
    "\n",
    "        # 뒤로 간다면 나올 좌표 nx, ny에 기록하고, 이동 가능하다면 이동하기\n",
    "        nx = x - dx[direction]\n",
    "        ny = y - dy[direction]\n",
    "        if array[nx][ny] == 0:\n",
    "            x = nx\n",
    "            y = ny\n",
    "        # 이동이 불가하다면?\n",
    "        else:\n",
    "            break\n",
    "        turn_time = 0\n",
    "\n",
    "# 정답 출력\n",
    "print(count)\n",
    "\n"
   ]
  },
  {
   "cell_type": "code",
   "execution_count": null,
   "metadata": {},
   "outputs": [],
   "source": []
  }
 ],
 "metadata": {
  "kernelspec": {
   "display_name": "Python 3",
   "language": "python",
   "name": "python3"
  },
  "language_info": {
   "codemirror_mode": {
    "name": "ipython",
    "version": 3
   },
   "file_extension": ".py",
   "mimetype": "text/x-python",
   "name": "python",
   "nbconvert_exporter": "python",
   "pygments_lexer": "ipython3",
   "version": "3.9.13"
  },
  "orig_nbformat": 4
 },
 "nbformat": 4,
 "nbformat_minor": 2
}
