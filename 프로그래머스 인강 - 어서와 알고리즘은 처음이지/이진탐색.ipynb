{
 "cells": [
  {
   "cell_type": "markdown",
   "metadata": {},
   "source": [
    "# 이진탐색 다른 아이디어 (프로그래머스 인강)\n",
    "https://school.programmers.co.kr/learn/courses/57/lessons/13775#"
   ]
  },
  {
   "cell_type": "code",
   "execution_count": 1,
   "metadata": {},
   "outputs": [],
   "source": [
    "def sub_solution(li, num):\n",
    "    ans = 0\n",
    "    \n",
    "    if len(li) == 1 or len(li) == 2:\n",
    "        if num in li:\n",
    "            ans = li.index(num)\n",
    "        else:\n",
    "            ans = '*'\n",
    "    elif len(li) == 0:\n",
    "        ans = '*'\n",
    "    else:\n",
    "        if num in li:\n",
    "            ans = li.index(num)\n",
    "        else:\n",
    "            ans = -1\n",
    "        \n",
    "    return ans\n",
    "\n",
    "def solution(L, x):\n",
    "    answer = 0\n",
    "    \n",
    "    while True:\n",
    "        if len(L) == 1 or len(L) == 0 or len(L) == 2:\n",
    "            a = sub_solution(L, x)\n",
    "            if a == '*':\n",
    "                answer = -1\n",
    "                break\n",
    "            else:\n",
    "                answer = a\n",
    "                break\n",
    "        else:\n",
    "            # L이 짝수개 있을때\n",
    "            if len(L) % 2 == 0:\n",
    "                cent = (L[(len(L) // 2) - 1] + L[len(L) // 2]) / 2\n",
    "                if x > cent :\n",
    "                    # 오른쪽 반절 떼어 반복\n",
    "                    L = L[((len(L) // 2) - 1):]\n",
    "                    a = sub_solution(L, x)\n",
    "                    if a == -1:\n",
    "                        continue\n",
    "                    elif a == '*':\n",
    "                        answer = -1\n",
    "                        break\n",
    "                    else:\n",
    "                        answer = a\n",
    "                        break\n",
    "                elif x < cent:\n",
    "                    L = L[:(len(L) // 2)]\n",
    "                    a = sub_solution(L, x)\n",
    "                    if a == -1:\n",
    "                        continue\n",
    "                    elif a == '*':\n",
    "                        answer = -1\n",
    "                        break\n",
    "                    else:\n",
    "                        answer = a\n",
    "                        break\n",
    "                else:\n",
    "                    answer = -1\n",
    "                    break\n",
    "\n",
    "            # L이 원소 홀수개일때\n",
    "            else:\n",
    "                cent = L[len(L) // 2]\n",
    "                if x > cent :\n",
    "                    L = L[((len(L) // 2) - 1):]\n",
    "                    a = sub_solution(L, x)\n",
    "                    if a == -1:\n",
    "                        continue\n",
    "                    elif a == '*':\n",
    "                        answer = -1\n",
    "                        break\n",
    "                    else:\n",
    "                        answer = a\n",
    "                        break\n",
    "                elif x < cent:\n",
    "                    L = L[:(len(L) // 2)]\n",
    "                    a = sub_solution(L, x)\n",
    "                    if a == -1:\n",
    "                        continue\n",
    "                    elif a == '*':\n",
    "                        answer = -1\n",
    "                        break\n",
    "                    else:\n",
    "                        answer = a\n",
    "                        break\n",
    "                else:\n",
    "                    answer = len(L) // 2\n",
    "                    break\n",
    "        \n",
    "    return answer"
   ]
  },
  {
   "cell_type": "code",
   "execution_count": 2,
   "metadata": {},
   "outputs": [
    {
     "data": {
      "text/plain": [
       "-1"
      ]
     },
     "execution_count": 2,
     "metadata": {},
     "output_type": "execute_result"
    }
   ],
   "source": [
    "L = [2, 5, 7, 9, 11]\n",
    "x = 4\n",
    "solution(L, x)"
   ]
  },
  {
   "cell_type": "code",
   "execution_count": 3,
   "metadata": {},
   "outputs": [],
   "source": [
    "def solution(L, x):\n",
    "    answer = 0\n",
    "    \n",
    "    mid = len(L) // 2\n",
    "    \n",
    "    if L[mid] == x:\n",
    "        answer = mid\n",
    "    elif L[mid] > x:\n",
    "        return solution(L[:mid], x)\n",
    "    else:\n",
    "        return solution(L[mid:], x)\n",
    "    \n",
    "    return answer"
   ]
  },
  {
   "cell_type": "code",
   "execution_count": 4,
   "metadata": {},
   "outputs": [
    {
     "data": {
      "text/plain": [
       "3"
      ]
     },
     "execution_count": 4,
     "metadata": {},
     "output_type": "execute_result"
    }
   ],
   "source": [
    "L = [2, 3, 5, 6, 9, 11, 15]\n",
    "x = 6\n",
    "solution(L, x)"
   ]
  },
  {
   "cell_type": "markdown",
   "metadata": {},
   "source": [
    "참고 코드 링크 https://tobuymacbookpro.tistory.com/20"
   ]
  },
  {
   "cell_type": "code",
   "execution_count": 5,
   "metadata": {},
   "outputs": [],
   "source": [
    "# 해결 코드: 어쨌거나 이진탐색은 인덱스 단위로 start, upper를 쓰고 중간인덱스 따지는게 맞음\n",
    "# 인덱스를 안 따지고 슬라이싱 같은 다른 방식을 쓴다? -> 시간이나 뎁스문제가 나옴. 인덱스 단위로 무조건 따지는 게 맞음\n",
    "# 이진탐색이라고 해서 홀짝을 구별할 필요는 없음\n",
    "\n",
    "def solution(L, x):\n",
    "    answer = -1\n",
    "    \n",
    "    start = 0\n",
    "    upper = len(L) - 1\n",
    "\n",
    "    while start <= upper:\n",
    "        mid = (start + upper) // 2\n",
    "    \n",
    "        if L[mid] == x:\n",
    "            answer = mid\n",
    "            break\n",
    "        elif L[mid] < x:\n",
    "            start = mid + 1\n",
    "        else:\n",
    "            upper = mid - 1\n",
    "    \n",
    "    return answer"
   ]
  },
  {
   "cell_type": "code",
   "execution_count": 6,
   "metadata": {},
   "outputs": [
    {
     "data": {
      "text/plain": [
       "-1"
      ]
     },
     "execution_count": 6,
     "metadata": {},
     "output_type": "execute_result"
    }
   ],
   "source": [
    "L = [2, 5, 7, 9, 11]\n",
    "x = 4\n",
    "solution(L, x)"
   ]
  },
  {
   "cell_type": "code",
   "execution_count": null,
   "metadata": {},
   "outputs": [],
   "source": []
  }
 ],
 "metadata": {
  "kernelspec": {
   "display_name": "Python 3",
   "language": "python",
   "name": "python3"
  },
  "language_info": {
   "codemirror_mode": {
    "name": "ipython",
    "version": 3
   },
   "file_extension": ".py",
   "mimetype": "text/x-python",
   "name": "python",
   "nbconvert_exporter": "python",
   "pygments_lexer": "ipython3",
   "version": "3.9.13"
  },
  "orig_nbformat": 4
 },
 "nbformat": 4,
 "nbformat_minor": 2
}
